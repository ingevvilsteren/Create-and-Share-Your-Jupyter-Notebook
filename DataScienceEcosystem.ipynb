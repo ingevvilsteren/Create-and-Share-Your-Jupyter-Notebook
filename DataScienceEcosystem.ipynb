{
 "cells": [
  {
   "cell_type": "markdown",
   "id": "ecb85017-0bd2-4c2c-83c6-06fcf62b9868",
   "metadata": {},
   "source": [
    "# Data Science Tools and Ecosystem"
   ]
  },
  {
   "cell_type": "markdown",
   "id": "30f90f50-fc09-4f1a-a804-1ebb0f764f3f",
   "metadata": {},
   "source": [
    "In this notebook, Data Science Tools and Ecosystem are summarized."
   ]
  },
  {
   "cell_type": "markdown",
   "id": "b7dfe8c8-ecdf-4378-b73e-11c2d3e3cb56",
   "metadata": {},
   "source": [
    "Some of the popular languages that Data Scientists use are:"
   ]
  },
  {
   "cell_type": "markdown",
   "id": "58d30257-a5fa-4361-bfd8-0da2f2b33ad1",
   "metadata": {},
   "source": [
    "1. Python\n",
    "2. R\n",
    "3. Java"
   ]
  },
  {
   "cell_type": "markdown",
   "id": "8267bae3-ca90-4b6b-84c5-bd1b16ccbb71",
   "metadata": {},
   "source": [
    "Some of the commonly used libraries used by Data Scientists include:"
   ]
  },
  {
   "cell_type": "markdown",
   "id": "1043a8ad-a3ec-4f42-a4a7-430b76e9d013",
   "metadata": {},
   "source": [
    "1. NumPy\n",
    "2. Matplotib\n",
    "3. Pandas"
   ]
  },
  {
   "cell_type": "markdown",
   "id": "da7ac4da-d82c-4f2c-8349-64f6b14507e5",
   "metadata": {},
   "source": [
    "| Data Science Tools |\n",
    ":-:\n",
    "| Libraries and frameworks |\n",
    "| Intergrated Development Environments |\n",
    "| Data Visualization Tools |"
   ]
  },
  {
   "cell_type": "markdown",
   "id": "8d82e749-82e4-45aa-a194-9bb846ee29de",
   "metadata": {},
   "source": [
    "### Below are a few examples of evaluating arithmetic expressions in Python"
   ]
  },
  {
   "cell_type": "code",
   "execution_count": 3,
   "id": "3d060f08-7eb3-44e0-b2b1-bcee916d30c1",
   "metadata": {},
   "outputs": [
    {
     "data": {
      "text/plain": [
       "17"
      ]
     },
     "execution_count": 3,
     "metadata": {},
     "output_type": "execute_result"
    }
   ],
   "source": [
    "(3*4)+5"
   ]
  },
  {
   "cell_type": "code",
   "execution_count": 4,
   "id": "3130c7f4-b22c-4675-bafe-b95995bce9ff",
   "metadata": {},
   "outputs": [
    {
     "data": {
      "text/plain": [
       "3.3333333333333335"
      ]
     },
     "execution_count": 4,
     "metadata": {},
     "output_type": "execute_result"
    }
   ],
   "source": [
    "# This will convert 200 minutes to hours by deviding by 60\n",
    "200/60"
   ]
  },
  {
   "cell_type": "markdown",
   "id": "689b4802-dfe5-481e-bc14-4f60e489ada0",
   "metadata": {},
   "source": [
    "__Objectives:__\n",
    "- List popular languages in data science\n",
    "- List commonly used libraries by Data Scientist\n",
    "- Create a single line table listing Data Science tools\n",
    "- Multiply and add numbers"
   ]
  },
  {
   "cell_type": "markdown",
   "id": "2f565567-052e-4143-be21-abbe5282363a",
   "metadata": {},
   "source": [
    "## Author\n",
    "Inge van Vilsteren"
   ]
  },
  {
   "cell_type": "code",
   "execution_count": null,
   "id": "081a0052-e56a-4fda-803a-edc7a4e7eb67",
   "metadata": {},
   "outputs": [],
   "source": []
  }
 ],
 "metadata": {
  "kernelspec": {
   "display_name": "Python 3 (ipykernel)",
   "language": "python",
   "name": "python3"
  },
  "language_info": {
   "codemirror_mode": {
    "name": "ipython",
    "version": 3
   },
   "file_extension": ".py",
   "mimetype": "text/x-python",
   "name": "python",
   "nbconvert_exporter": "python",
   "pygments_lexer": "ipython3",
   "version": "3.12.9"
  }
 },
 "nbformat": 4,
 "nbformat_minor": 5
}
